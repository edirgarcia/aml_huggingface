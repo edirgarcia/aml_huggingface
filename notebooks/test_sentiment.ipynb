{
 "cells": [
  {
   "cell_type": "code",
   "execution_count": null,
   "metadata": {},
   "outputs": [],
   "source": [
    "from transformers import pipeline\n",
    "\n",
    "from azureml.core import Workspace"
   ]
  },
  {
   "cell_type": "code",
   "execution_count": null,
   "metadata": {},
   "outputs": [],
   "source": [
    "# You can also run this on an Azure compute, just delete the config path below like so:\n",
    "# workspace = Workspace.from_config()\n",
    "# this below works only fo the innovation aml workspace\n",
    "# if you're external audience this will not work, use the one above in your own workspace\n",
    "workspace = Workspace.from_config(\"../aml_workspace_config.json\")\n",
    "default_datastore = workspace.get_default_datastore()\n",
    "default_datastore"
   ]
  },
  {
   "cell_type": "code",
   "execution_count": null,
   "metadata": {},
   "outputs": [],
   "source": [
    "# the models are not in the git repo, so we need to download them from the datastore\n",
    "default_datastore.download(\"../\", prefix=\"imdb/models/imdb_sentiment\", overwrite=True)"
   ]
  },
  {
   "cell_type": "code",
   "execution_count": null,
   "metadata": {},
   "outputs": [],
   "source": [
    "#use the dead simple HuggingFace API to get some mask filling examples\n",
    "sentiment = pipeline('sentiment-analysis' , model='../imdb/models/imdb_sentiment')\n",
    "#super basic example\n",
    "result = sentiment(\"That's the worst movie ever!\")\n",
    "result"
   ]
  },
  {
   "cell_type": "code",
   "execution_count": null,
   "metadata": {},
   "outputs": [],
   "source": [
    "#super basic example\n",
    "result = sentiment(\"That movie is incredible!\")\n",
    "result"
   ]
  },
  {
   "cell_type": "code",
   "execution_count": null,
   "metadata": {},
   "outputs": [],
   "source": [
    "# Once upon a time in Hollywood, positive review\n",
    "result = sentiment('''Quentin Tarantino has given us a masterpiece with an historic teaming of Leonardo DiCaprio and Brad Pitt. The two really work well together and that's half the secret of this film. \n",
    "The other half is incredible detail to the period of this movie which takes place in 1969 Hollywood. DiCaprio plays a former western star who would like to get his career jump started again. \n",
    "I remember back in the 50s and early 60s television was saturated with westerns. DiCaprio is playing one of those stars and westerns had gone into a decline as public taste has changed. \n",
    "But there are a few being made still and DiCaprio is shooting an episode in Lancer. Back in the day Brad Pitt was his stunt double and now he's gotten older and heavier and he's a iconoclastic sort.and he's essentially DiCaprio's entourage.\n",
    " These two are so great together in every scene they're both in. As it turns out DiCaprio lives in a Beverly Hills cul-de-sac and his neighbors are Roman Polanski and his wife the ill fated Sharon Tate played her by Margot Robbie. \n",
    " There's this aura of tragedy that Tarantino creates around her and her friend hairstylist to the star Jay Sebring played by Emile Hirsch. For one who in her short career played some sexpots there's a sweet innocence in Robbie's portrayal of Tate.\n",
    "  Also note good performances by Al Pacino as a producer always on the cutting edge of new trends in the business. And Bruce Dern is unforgettable as George Spahn who owned the movie ranch property where many westerns were shot back in the day. \n",
    "  Dern has a memorable scene with Pitt.There might definitely be some Oscars in this one. See it by all means.''')\n",
    "  \n",
    "result"
   ]
  },
  {
   "cell_type": "code",
   "execution_count": null,
   "metadata": {},
   "outputs": [],
   "source": [
    "# Don't look up, negative review... that's very obviously wrong :P\n",
    "result = sentiment('''Grad student Kate Dibiasky (Jennifer Lawrence) and her professor Dr. Randall Mindy (Leonardo DiCaprio) find a comet headed for Earth. It's an extinction level event in six months. \n",
    "They try to warn President Orlean (Meryl Streep) but she's more concerned with the upcoming midterms and a brewing scandal. The media dismisses the danger and social media is even worst.\n",
    "This is mildly annoying and not at all funny. The satire is something like global climate change. It's hitting the audience over the head again and again. I don't appreciate it. \n",
    "It doesn't make sense anyways. The media would love to heighten the dangers from a world-ending asteroid. They love it so much that they keep making movies about that. \n",
    "As soon as DiCaprio sends out the first stuttering comment, the media would come up with the graphics and the breaking news sound track. So it's not even good social commentary. \n",
    "That's before the movie's unfunny writing. I can't decide if it's the subject matter or the writing itself. It doesn't really matter. None of this is funny.''')\n",
    "  \n",
    "result"
   ]
  },
  {
   "cell_type": "code",
   "execution_count": null,
   "metadata": {},
   "outputs": [],
   "source": [
    "# How did we do?\n",
    "# https://paperswithcode.com/sota/sentiment-analysis-on-imdb\n",
    "\n",
    "# not too bad developing it this fast"
   ]
  }
 ],
 "metadata": {
  "interpreter": {
   "hash": "91e1ace8ed40482a220e2888987fa996506e868337e751bc59241b473aada2c4"
  },
  "kernelspec": {
   "display_name": "Python 3.7.10 64-bit ('ps_bert': conda)",
   "name": "python3"
  },
  "language_info": {
   "codemirror_mode": {
    "name": "ipython",
    "version": 3
   },
   "file_extension": ".py",
   "mimetype": "text/x-python",
   "name": "python",
   "nbconvert_exporter": "python",
   "pygments_lexer": "ipython3",
   "version": "3.7.10"
  }
 },
 "nbformat": 4,
 "nbformat_minor": 2
}
