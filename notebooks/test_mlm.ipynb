{
 "cells": [
  {
   "cell_type": "code",
   "execution_count": null,
   "metadata": {},
   "outputs": [],
   "source": [
    "from transformers import pipeline\n",
    "\n",
    "from azureml.core import Workspace"
   ]
  },
  {
   "cell_type": "code",
   "execution_count": null,
   "metadata": {},
   "outputs": [],
   "source": [
    "# You can also run this on an Azure compute, just delete the config path below like so:\n",
    "# workspace = Workspace.from_config()\n",
    "# this below works only fo the innovation aml workspace\n",
    "# if you're external audience this will not work, use the one above in your own workspace\n",
    "workspace = Workspace.from_config(\"../aml_workspace_config.json\")\n",
    "default_datastore = workspace.get_default_datastore()\n",
    "default_datastore"
   ]
  },
  {
   "cell_type": "code",
   "execution_count": null,
   "metadata": {},
   "outputs": [],
   "source": [
    "# the models are not in the git repo, so we need to download them from the datastore\n",
    "default_datastore.download(\"../\", prefix=\"imdb/models/imdb_roberta_ft\", overwrite=True)"
   ]
  },
  {
   "cell_type": "code",
   "execution_count": null,
   "metadata": {},
   "outputs": [],
   "source": [
    "#use the dead simple HuggingFace API to get some mask filling examples\n",
    "#unmasker = pipeline('fill-mask', model='roberta-base')\n",
    "unmasker = pipeline('fill-mask', model='../imdb/models/imdb_roberta_ft')\n",
    "unmasker(\"Jeff Goldblum is in Jurassic <mask>.\")\n",
    "# some fun prompts\n",
    "#unmasker(\"I love the part when the <mask> attack everyone\")\n",
    "#unmasker(\"I love the part when the <mask> eat everyone\")\n",
    "#unmasker(\"Who would have guessed that the butler was the <mask>?\")"
   ]
  },
  {
   "cell_type": "code",
   "execution_count": null,
   "metadata": {},
   "outputs": [],
   "source": [
    "# IMPORTANT note! remember that Large Language Models inherently have bias and should be used with caution if at all\n",
    "\n",
    "# refer to https://www.microsoft.com/en-us/ai/responsible-ai for more information and good practices on how to mitigate bias\n",
    "# or talk to your responsible AI champion to understand the nuances of using this technology\n",
    "\n",
    "unmasker(\"The man worked as a <mask>.\")"
   ]
  },
  {
   "cell_type": "code",
   "execution_count": null,
   "metadata": {},
   "outputs": [],
   "source": [
    "unmasker(\"The woman worked as a <mask>.\")"
   ]
  }
 ],
 "metadata": {
  "interpreter": {
   "hash": "91e1ace8ed40482a220e2888987fa996506e868337e751bc59241b473aada2c4"
  },
  "kernelspec": {
   "display_name": "Python 3.7.10 64-bit ('ps_bert': conda)",
   "name": "python3"
  },
  "language_info": {
   "codemirror_mode": {
    "name": "ipython",
    "version": 3
   },
   "file_extension": ".py",
   "mimetype": "text/x-python",
   "name": "python",
   "nbconvert_exporter": "python",
   "pygments_lexer": "ipython3",
   "version": "3.7.10"
  }
 },
 "nbformat": 4,
 "nbformat_minor": 2
}
